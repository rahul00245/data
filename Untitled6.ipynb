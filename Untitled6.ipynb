{
  "nbformat": 4,
  "nbformat_minor": 0,
  "metadata": {
    "colab": {
      "provenance": [],
      "authorship_tag": "ABX9TyNJI5sBSdCMGwVzEFO/ZEs6",
      "include_colab_link": true
    },
    "kernelspec": {
      "name": "python3",
      "display_name": "Python 3"
    },
    "language_info": {
      "name": "python"
    }
  },
  "cells": [
    {
      "cell_type": "markdown",
      "metadata": {
        "id": "view-in-github",
        "colab_type": "text"
      },
      "source": [
        "<a href=\"https://colab.research.google.com/github/rahul00245/data/blob/main/Untitled6.ipynb\" target=\"_parent\"><img src=\"https://colab.research.google.com/assets/colab-badge.svg\" alt=\"Open In Colab\"/></a>"
      ]
    },
    {
      "cell_type": "markdown",
      "source": [
        "# Q1. Write a function that return the range (maximum and minimun) of a given list of numbers"
      ],
      "metadata": {
        "id": "rSX4aP5i33ph"
      }
    },
    {
      "cell_type": "code",
      "execution_count": 1,
      "metadata": {
        "colab": {
          "base_uri": "https://localhost:8080/"
        },
        "id": "GWb7a-mLZnu_",
        "outputId": "3ab0a94c-6252-4051-99c5-2a0e8f7d3326"
      },
      "outputs": [
        {
          "output_type": "stream",
          "name": "stdout",
          "text": [
            "the range of the list is:min = 1,max = 5\n"
          ]
        }
      ],
      "source": [
        "def get_range(numbers):\n",
        "\n",
        "  if not numbers:\n",
        "    return None, none\n",
        "  return min(numbers), max(numbers)\n",
        "\n",
        "my_list = [1,2,3,4,5]\n",
        "min, max = get_range(my_list)\n",
        "print(f\"the range of the list is:min = {min},max = {max}\")\n",
        ""
      ]
    },
    {
      "cell_type": "markdown",
      "source": [
        "## Q2. Write function that returns mean value of a list of numbers"
      ],
      "metadata": {
        "id": "WX9RXiZS4FsQ"
      }
    },
    {
      "cell_type": "code",
      "source": [
        "def mean_value(numbers):\n",
        "  if not numbers:\n",
        "    return None\n",
        "  return sum(numbers)/len(numbers)\n",
        "  return mean_value\n",
        "\n",
        "numbers=[10,20,30,40,50]\n",
        "mean=mean_value(numbers)\n",
        "print(f\"the mean value of the list is{mean}\")"
      ],
      "metadata": {
        "colab": {
          "base_uri": "https://localhost:8080/"
        },
        "id": "tk3SrTDEalyD",
        "outputId": "42525964-4900-447d-adc5-cef043df7854"
      },
      "execution_count": 7,
      "outputs": [
        {
          "output_type": "stream",
          "name": "stdout",
          "text": [
            "the mean value of the list is30.0\n"
          ]
        }
      ]
    },
    {
      "cell_type": "markdown",
      "source": [
        "# Q3. Write a function that returns the median value of a list of numbers"
      ],
      "metadata": {
        "id": "kBgiEInS4NMa"
      }
    },
    {
      "cell_type": "code",
      "source": [
        "def median_value(numbers):\n",
        "   if not numbers:\n",
        "     return None\n",
        "   sorted_numbers = sorted(numbers)\n",
        "   n = len(sorted_numbers)\n",
        "   mid_index = n//2\n",
        "   if n%2==0:\n",
        "\n",
        "      return(sorted_numbers[mid_index - 1] + sorted_numbers[mid_index]) / 2\n",
        "   else:\n",
        "\n",
        "      return sorted_numbers[mid_index]\n",
        "\n",
        "numbers = [2,4,6,8,10]\n",
        "median = median_value(numbers)\n",
        "print(f\"the median value of the list is{median}\")\n",
        "\n",
        ""
      ],
      "metadata": {
        "colab": {
          "base_uri": "https://localhost:8080/"
        },
        "id": "PJPocUbHenIk",
        "outputId": "127abb67-618c-4bcf-a663-e8ee49d9538e"
      },
      "execution_count": 13,
      "outputs": [
        {
          "output_type": "stream",
          "name": "stdout",
          "text": [
            "the median value of the list is6\n"
          ]
        }
      ]
    },
    {
      "cell_type": "markdown",
      "source": [
        "## Q4. Write a function to return the mod of a list of numbers, if no mod exists, it should return None. If more than one mod exist, return the mod values as list"
      ],
      "metadata": {
        "id": "QKv5QjdN4Tao"
      }
    },
    {
      "cell_type": "code",
      "source": [
        "def find_mode(numbers):\n",
        "  if not numbers:\n",
        "      return None\n",
        "\n",
        "  freq = {}\n",
        "  for num in numbers:\n",
        "      if num in freq:\n",
        "        freq[num] += 1\n",
        "      else:\n",
        "        freq[num] = 1\n",
        "  max_freq = max(freq.values())\n",
        "\n",
        "  if  max_freq == 1:\n",
        "      return None\n",
        "\n",
        "  mode = [num for num in freq if freq [num] == max_freq]\n",
        "  return mode[0] if len(mode) == 1 else mode\n",
        "\n",
        "data = [1,2,3,4,5]\n",
        "result = find_mode(data)\n",
        "print(\"mode:\", result)"
      ],
      "metadata": {
        "colab": {
          "base_uri": "https://localhost:8080/",
          "height": 315
        },
        "id": "Z4MWhBx_lOF9",
        "outputId": "8f2f003d-9ea0-4073-9dbd-d8bd77966d14"
      },
      "execution_count": 22,
      "outputs": [
        {
          "output_type": "error",
          "ename": "TypeError",
          "evalue": "'int' object is not callable",
          "traceback": [
            "\u001b[0;31m---------------------------------------------------------------------------\u001b[0m",
            "\u001b[0;31mTypeError\u001b[0m                                 Traceback (most recent call last)",
            "\u001b[0;32m/tmp/ipython-input-22-3020256106.py\u001b[0m in \u001b[0;36m<cell line: 0>\u001b[0;34m()\u001b[0m\n\u001b[1;32m     18\u001b[0m \u001b[0;34m\u001b[0m\u001b[0m\n\u001b[1;32m     19\u001b[0m \u001b[0mdata\u001b[0m \u001b[0;34m=\u001b[0m \u001b[0;34m[\u001b[0m\u001b[0;36m1\u001b[0m\u001b[0;34m,\u001b[0m\u001b[0;36m2\u001b[0m\u001b[0;34m,\u001b[0m\u001b[0;36m3\u001b[0m\u001b[0;34m,\u001b[0m\u001b[0;36m4\u001b[0m\u001b[0;34m,\u001b[0m\u001b[0;36m5\u001b[0m\u001b[0;34m]\u001b[0m\u001b[0;34m\u001b[0m\u001b[0;34m\u001b[0m\u001b[0m\n\u001b[0;32m---> 20\u001b[0;31m \u001b[0mresult\u001b[0m \u001b[0;34m=\u001b[0m \u001b[0mfind_mode\u001b[0m\u001b[0;34m(\u001b[0m\u001b[0mdata\u001b[0m\u001b[0;34m)\u001b[0m\u001b[0;34m\u001b[0m\u001b[0;34m\u001b[0m\u001b[0m\n\u001b[0m\u001b[1;32m     21\u001b[0m \u001b[0mprint\u001b[0m\u001b[0;34m(\u001b[0m\u001b[0;34m\"mode:\"\u001b[0m\u001b[0;34m,\u001b[0m \u001b[0mresult\u001b[0m\u001b[0;34m)\u001b[0m\u001b[0;34m\u001b[0m\u001b[0;34m\u001b[0m\u001b[0m\n",
            "\u001b[0;32m/tmp/ipython-input-22-3020256106.py\u001b[0m in \u001b[0;36mfind_mode\u001b[0;34m(numbers)\u001b[0m\n\u001b[1;32m      9\u001b[0m       \u001b[0;32melse\u001b[0m\u001b[0;34m:\u001b[0m\u001b[0;34m\u001b[0m\u001b[0;34m\u001b[0m\u001b[0m\n\u001b[1;32m     10\u001b[0m         \u001b[0mfreq\u001b[0m\u001b[0;34m[\u001b[0m\u001b[0mnum\u001b[0m\u001b[0;34m]\u001b[0m \u001b[0;34m=\u001b[0m \u001b[0;36m1\u001b[0m\u001b[0;34m\u001b[0m\u001b[0;34m\u001b[0m\u001b[0m\n\u001b[0;32m---> 11\u001b[0;31m   \u001b[0mmax_freq\u001b[0m \u001b[0;34m=\u001b[0m \u001b[0mmax\u001b[0m\u001b[0;34m(\u001b[0m\u001b[0mfreq\u001b[0m\u001b[0;34m.\u001b[0m\u001b[0mvalues\u001b[0m\u001b[0;34m(\u001b[0m\u001b[0;34m)\u001b[0m\u001b[0;34m)\u001b[0m\u001b[0;34m\u001b[0m\u001b[0;34m\u001b[0m\u001b[0m\n\u001b[0m\u001b[1;32m     12\u001b[0m \u001b[0;34m\u001b[0m\u001b[0m\n\u001b[1;32m     13\u001b[0m   \u001b[0;32mif\u001b[0m  \u001b[0mmax_freq\u001b[0m \u001b[0;34m==\u001b[0m \u001b[0;36m1\u001b[0m\u001b[0;34m:\u001b[0m\u001b[0;34m\u001b[0m\u001b[0;34m\u001b[0m\u001b[0m\n",
            "\u001b[0;31mTypeError\u001b[0m: 'int' object is not callable"
          ]
        }
      ]
    },
    {
      "cell_type": "markdown",
      "source": [
        "## Q5. Write function to compute a given percentile value (e.g. 90th percentile) of a list of numbers"
      ],
      "metadata": {
        "id": "w_i2G5it4Z75"
      }
    },
    {
      "cell_type": "code",
      "source": [
        "def percentile_value(numbers, percentile):\n",
        "\n"
      ],
      "metadata": {
        "id": "cb2dv5lblOxN"
      },
      "execution_count": null,
      "outputs": []
    },
    {
      "cell_type": "markdown",
      "source": [
        "# Q6. Write a function that returns the lower bound of a list of numbers"
      ],
      "metadata": {
        "id": "P1g7Z2XI4geY"
      }
    },
    {
      "cell_type": "code",
      "source": [
        "def lower_bound(a):\n",
        "  n=len(a)\n",
        "  Q1=int(25/100)*(n+1)\n",
        "  Q3=int(75/100)*(n+1)\n",
        "  IQR=a[Q3]-a[Q1]\n",
        "  LB=a[Q1]-1.5*IQR\n",
        "  return LB\n",
        "a=[1,2,3,4,5]\n",
        "LB=lower_bound(a)\n",
        "print(LB)"
      ],
      "metadata": {
        "colab": {
          "base_uri": "https://localhost:8080/"
        },
        "id": "Pkv0-LxvzQrI",
        "outputId": "f7e5683b-7e41-479d-e31c-034bf92807f4"
      },
      "execution_count": 23,
      "outputs": [
        {
          "output_type": "stream",
          "name": "stdout",
          "text": [
            "1.0\n"
          ]
        }
      ]
    },
    {
      "cell_type": "markdown",
      "source": [
        "## Q7. Write function to return any outliers from a given list of numbers, if no outliers present it should return None"
      ],
      "metadata": {
        "id": "ATXozFR84yVR"
      }
    },
    {
      "cell_type": "code",
      "source": [
        "def find_outliers(data):\n",
        "  if not data or len(data)<4:\n",
        "    return None\n",
        "    sorted_data = sorted(data)\n",
        "\n",
        "n = len(sorted_data)\n",
        "\n",
        "def median(nums):\n",
        "  mid = len(nums //2)\n",
        "  if len(nums) % 2 ==0:\n",
        "    return (num[mid - 1] + nums[mid]) / 2\n",
        "  else:\n",
        "    return nums[mid]\n",
        "\n",
        "mid = n // 2\n",
        "if n % 2 ==0:\n",
        "   lower_half = sorted_data[:mid]\n",
        "   upper_half = sorted_data[mid:]\n",
        "else:\n",
        "  lower_half = sorted_data[:mid]\n",
        "  upper_half = sorted_data[mid+1:]\n",
        "\n",
        "Q1 = median(lower_half)\n",
        "Q3 = median(upper_half)\n",
        "IQR = Q3 - Q1\n",
        "\n",
        "lower_bound = Q1 - 1.5 * IQR\n",
        "upper_bound = Q3 + 1.5 * IQR\n",
        "\n",
        "outliers = [x for x in data if x < lower_bound or x > upper_bound]\n",
        "\n",
        "return outliers if outliers else None\n",
        "data=[1,2,3,4,5]\n",
        "print(find_outliers(data))"
      ],
      "metadata": {
        "colab": {
          "base_uri": "https://localhost:8080/",
          "height": 211
        },
        "id": "tIizOrGk08Y5",
        "outputId": "b19155f5-c65d-499f-b6b6-17eb4ab1cb64"
      },
      "execution_count": 27,
      "outputs": [
        {
          "output_type": "error",
          "ename": "NameError",
          "evalue": "name 'sorted_data' is not defined",
          "traceback": [
            "\u001b[0;31m---------------------------------------------------------------------------\u001b[0m",
            "\u001b[0;31mNameError\u001b[0m                                 Traceback (most recent call last)",
            "\u001b[0;32m/tmp/ipython-input-27-86699324.py\u001b[0m in \u001b[0;36m<cell line: 0>\u001b[0;34m()\u001b[0m\n\u001b[1;32m      4\u001b[0m     \u001b[0msorted_data\u001b[0m \u001b[0;34m=\u001b[0m \u001b[0msorted\u001b[0m\u001b[0;34m(\u001b[0m\u001b[0mdata\u001b[0m\u001b[0;34m)\u001b[0m\u001b[0;34m\u001b[0m\u001b[0;34m\u001b[0m\u001b[0m\n\u001b[1;32m      5\u001b[0m \u001b[0;34m\u001b[0m\u001b[0m\n\u001b[0;32m----> 6\u001b[0;31m \u001b[0mn\u001b[0m \u001b[0;34m=\u001b[0m \u001b[0mlen\u001b[0m\u001b[0;34m(\u001b[0m\u001b[0msorted_data\u001b[0m\u001b[0;34m)\u001b[0m\u001b[0;34m\u001b[0m\u001b[0;34m\u001b[0m\u001b[0m\n\u001b[0m\u001b[1;32m      7\u001b[0m \u001b[0;34m\u001b[0m\u001b[0m\n\u001b[1;32m      8\u001b[0m \u001b[0;32mdef\u001b[0m \u001b[0mmedian\u001b[0m\u001b[0;34m(\u001b[0m\u001b[0mnums\u001b[0m\u001b[0;34m)\u001b[0m\u001b[0;34m:\u001b[0m\u001b[0;34m\u001b[0m\u001b[0;34m\u001b[0m\u001b[0m\n",
            "\u001b[0;31mNameError\u001b[0m: name 'sorted_data' is not defined"
          ]
        }
      ]
    }
  ]
}