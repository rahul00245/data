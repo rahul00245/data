{
  "cells": [
    {
      "cell_type": "markdown",
      "metadata": {
        "id": "view-in-github",
        "colab_type": "text"
      },
      "source": [
        "<a href=\"https://colab.research.google.com/github/rahul00245/data/blob/main/python_assignment_b6.ipynb\" target=\"_parent\"><img src=\"https://colab.research.google.com/assets/colab-badge.svg\" alt=\"Open In Colab\"/></a>"
      ]
    },
    {
      "cell_type": "markdown",
      "id": "d2328cad",
      "metadata": {
        "id": "d2328cad"
      },
      "source": [
        "# Python Basics Assignment"
      ]
    },
    {
      "cell_type": "markdown",
      "id": "cb537954",
      "metadata": {
        "id": "cb537954"
      },
      "source": [
        "### Question 1\n",
        "Write a function to compute number of vowels in a string given as input"
      ]
    },
    {
      "cell_type": "code",
      "execution_count": 8,
      "id": "cf213ba2",
      "metadata": {
        "colab": {
          "base_uri": "https://localhost:8080/"
        },
        "id": "cf213ba2",
        "outputId": "c9488e26-6282-4be8-cbde-140188f3dc30"
      },
      "outputs": [
        {
          "output_type": "stream",
          "name": "stdout",
          "text": [
            "Number of vowels: 5\n"
          ]
        }
      ],
      "source": [
        "def count_vowels(vow):\n",
        "\n",
        "    vowels = \"aeiouAEIOU\"\n",
        "\n",
        "    vowel_count = 0\n",
        "\n",
        "    for char in vow:\n",
        "        if char in vowels:\n",
        "            vowel_count += 1\n",
        "\n",
        "    return vowel_count\n",
        "\n",
        "vow = \"how are you?\"\n",
        "print(\"Number of vowels:\", count_vowels(vow))\n"
      ]
    },
    {
      "cell_type": "markdown",
      "id": "4eaff430",
      "metadata": {
        "id": "4eaff430"
      },
      "source": [
        "### Question 2\n",
        "Write a function that checks whether a number is prime."
      ]
    },
    {
      "cell_type": "code",
      "execution_count": 13,
      "id": "81934cf7",
      "metadata": {
        "colab": {
          "base_uri": "https://localhost:8080/"
        },
        "id": "81934cf7",
        "outputId": "eb6221dd-9770-4d3a-97b6-15f91ce3b3e2"
      },
      "outputs": [
        {
          "output_type": "stream",
          "name": "stdout",
          "text": [
            "False\n"
          ]
        }
      ],
      "source": [
        "def is_prime(n):\n",
        "    if n <= 1:\n",
        "        return False\n",
        "    for i in range(2, int(n**0.5) + 1):\n",
        "        if n % i == 0:\n",
        "            return False\n",
        "    return True\n",
        "    print(is_prime(11))\n",
        "print(is_prime(15))\n",
        "\n"
      ]
    },
    {
      "cell_type": "markdown",
      "id": "5f061e50",
      "metadata": {
        "id": "5f061e50"
      },
      "source": [
        "### Question 3\n",
        "Write a function to return the maximum of two numbers."
      ]
    },
    {
      "cell_type": "code",
      "execution_count": 24,
      "id": "44e2a596",
      "metadata": {
        "colab": {
          "base_uri": "https://localhost:8080/"
        },
        "id": "44e2a596",
        "outputId": "325b4506-105f-4648-8f0c-58abcd331de8"
      },
      "outputs": [
        {
          "output_type": "stream",
          "name": "stdout",
          "text": [
            "20\n"
          ]
        }
      ],
      "source": [
        "a=10\n",
        "b=20\n",
        "def max(a, b):\n",
        "    if a > b:\n",
        "        return a\n",
        "    else:\n",
        "        return b\n",
        "print(max(a, b))"
      ]
    },
    {
      "cell_type": "markdown",
      "id": "7513ca91",
      "metadata": {
        "id": "7513ca91"
      },
      "source": [
        "### Question 4\n",
        "Write a function to return the factorial of a number."
      ]
    },
    {
      "cell_type": "code",
      "execution_count": 22,
      "id": "6617842f",
      "metadata": {
        "colab": {
          "base_uri": "https://localhost:8080/"
        },
        "id": "6617842f",
        "outputId": "f1797bb3-b819-4816-adb9-6bcfbdc1c190"
      },
      "outputs": [
        {
          "output_type": "stream",
          "name": "stdout",
          "text": [
            "120\n"
          ]
        }
      ],
      "source": [
        "def factorial(n):\n",
        "    if n == 0 or n == 1:\n",
        "        return\n",
        "    else:\n",
        "        result = 1\n",
        "        for i in range(2, n + 1):\n",
        "            result *= i\n",
        "        return result\n",
        "print(factorial(5))"
      ]
    },
    {
      "cell_type": "markdown",
      "id": "9b942098",
      "metadata": {
        "id": "9b942098"
      },
      "source": [
        "### Question 5\n",
        "Write a function to reverse a string without string indexing."
      ]
    },
    {
      "cell_type": "code",
      "execution_count": 40,
      "id": "d606b194",
      "metadata": {
        "colab": {
          "base_uri": "https://localhost:8080/"
        },
        "id": "d606b194",
        "outputId": "6385f1f8-7de4-42a4-8f27-0dc2cf2f52a2"
      },
      "outputs": [
        {
          "output_type": "stream",
          "name": "stdout",
          "text": [
            "The reversed string is: rihsa\n"
          ]
        }
      ],
      "source": [
        "def reverse_string_no_indexing(s):\n",
        "  reversed_str = \"\"\n",
        "  for char in s:\n",
        "    reversed_str = char + reversed_str\n",
        "  return reversed_str\n",
        "\n",
        "my_string = \"ashir\"\n",
        "reversed_string = reverse_string_no_indexing(my_string)\n",
        "print(f\"The reversed string is: {reversed_string}\")"
      ]
    },
    {
      "cell_type": "markdown",
      "id": "1abd915b",
      "metadata": {
        "id": "1abd915b"
      },
      "source": [
        "### Question 6\n",
        "Write a function to check if a string is a palindrome."
      ]
    },
    {
      "cell_type": "code",
      "execution_count": 42,
      "id": "2b868fb3",
      "metadata": {
        "colab": {
          "base_uri": "https://localhost:8080/"
        },
        "id": "2b868fb3",
        "outputId": "a158c2e5-510d-41c9-ee63-acdd9713ed27"
      },
      "outputs": [
        {
          "output_type": "stream",
          "name": "stdout",
          "text": [
            "'subhan' is not a palindrome:\n"
          ]
        }
      ],
      "source": [
        "def is_palindrome(s):\n",
        "    s = s.replace(\" \", \"\").lower()\n",
        "    return s == s[::-1]\n",
        "\n",
        "my_string1 = \"subhan\"\n",
        "\n",
        "print(f\"'{my_string1}' is not a palindrome:\")"
      ]
    },
    {
      "cell_type": "markdown",
      "id": "5f2f3791",
      "metadata": {
        "id": "5f2f3791"
      },
      "source": [
        "### Question 7\n",
        "Write a function to count vowels in a string."
      ]
    },
    {
      "cell_type": "code",
      "execution_count": 46,
      "id": "73fefa50",
      "metadata": {
        "colab": {
          "base_uri": "https://localhost:8080/"
        },
        "id": "73fefa50",
        "outputId": "7d09eb0d-cc98-4eaa-d450-1a2b1762d157"
      },
      "outputs": [
        {
          "output_type": "stream",
          "name": "stdout",
          "text": [
            "The number of vowels in 'hello world' is: 3\n"
          ]
        }
      ],
      "source": [
        "def count_vowels(vow):\n",
        "    vowels = \"aeiouAEIOU\"\n",
        "    vowel_count = 0\n",
        "    for char in vow:\n",
        "        if char in vowels:\n",
        "            vowel_count += 1\n",
        "    return vowel_count\n",
        "\n",
        "my_string = \"hello world\"\n",
        "vowel_count = count_vowels(my_string)\n",
        "print(f\"The number of vowels in '{my_string}' is: {vowel_count}\")"
      ]
    },
    {
      "cell_type": "markdown",
      "id": "0d3a9996",
      "metadata": {
        "id": "0d3a9996"
      },
      "source": [
        "### Question 8\n",
        "Write a function that returns the sum of a list."
      ]
    },
    {
      "cell_type": "code",
      "execution_count": 49,
      "id": "ab6afc66",
      "metadata": {
        "colab": {
          "base_uri": "https://localhost:8080/"
        },
        "id": "ab6afc66",
        "outputId": "321121ca-d069-4bb8-8223-7feab1010a5e"
      },
      "outputs": [
        {
          "output_type": "stream",
          "name": "stdout",
          "text": [
            "The sum of the list [2, 4, 6, 8] is: 20\n"
          ]
        }
      ],
      "source": [
        "def sum_of_list(numbers):\n",
        "\n",
        "  total = 0\n",
        "  for number in numbers:\n",
        "    total += number\n",
        "  return total\n",
        "\n",
        "my_list = [2,4,6,8]\n",
        "list_sum = sum_of_list(my_list)\n",
        "print(f\"The sum of the list {my_list} is: {list_sum}\")"
      ]
    },
    {
      "cell_type": "markdown",
      "id": "f6682500",
      "metadata": {
        "id": "f6682500"
      },
      "source": [
        "### Question 9\n",
        "Write a function to find the smallest number in a list."
      ]
    },
    {
      "cell_type": "code",
      "execution_count": 51,
      "id": "6798a641",
      "metadata": {
        "colab": {
          "base_uri": "https://localhost:8080/"
        },
        "id": "6798a641",
        "outputId": "9fab2b65-6b73-4b16-fdcc-963417cdcf06"
      },
      "outputs": [
        {
          "output_type": "stream",
          "name": "stdout",
          "text": [
            "The smallest number in the list [1, 2, 3, 4, 5] is: 1\n",
            "The smallest number in the list [] is: None\n"
          ]
        }
      ],
      "source": [
        "def find_smallest(numbers):\n",
        "  if not numbers:\n",
        "    return None\n",
        "\n",
        "  smallest = numbers[0]\n",
        "  for number in numbers:\n",
        "    if number < smallest:\n",
        "      smallest = number\n",
        "  return smallest\n",
        "\n",
        "my_list = [1,2,3,4,5]\n",
        "smallest_number = find_smallest(my_list)\n",
        "print(f\"The smallest number in the list {my_list} is: {smallest_number}\")\n",
        "\n",
        "my_list_empty = []\n",
        "smallest_number_empty = find_smallest(my_list_empty)\n",
        "print(f\"The smallest number in the list {my_list_empty} is: {smallest_number_empty}\")"
      ]
    },
    {
      "cell_type": "markdown",
      "id": "fb11e683",
      "metadata": {
        "id": "fb11e683"
      },
      "source": [
        "### Question 10\n",
        "Write a function to remove duplicates from a list."
      ]
    },
    {
      "cell_type": "code",
      "execution_count": 52,
      "id": "7c53f88c",
      "metadata": {
        "colab": {
          "base_uri": "https://localhost:8080/"
        },
        "id": "7c53f88c",
        "outputId": "e436a9f9-966d-4865-c117-d7abcba552fa"
      },
      "outputs": [
        {
          "output_type": "stream",
          "name": "stdout",
          "text": [
            "Original list: [1, 2, 2, 3, 4, 4, 5]\n",
            "List after removing duplicates: [1, 2, 3, 4, 5]\n"
          ]
        }
      ],
      "source": [
        "def remove_duplicates(input_list):\n",
        "\n",
        "  return list(set(input_list))\n",
        "\n",
        "my_list_with_duplicates = [1, 2, 2, 3, 4, 4, 5]\n",
        "list_without_duplicates = remove_duplicates(my_list_with_duplicates)\n",
        "print(f\"Original list: {my_list_with_duplicates}\")\n",
        "print(f\"List after removing duplicates: {list_without_duplicates}\")"
      ]
    },
    {
      "cell_type": "markdown",
      "id": "9c380a5c",
      "metadata": {
        "id": "9c380a5c"
      },
      "source": [
        "### Question 11\n",
        "Write a function to sort a list in ascending order without using builtin sort function"
      ]
    },
    {
      "cell_type": "code",
      "source": [],
      "metadata": {
        "id": "CQ0MIh2HqTD_"
      },
      "id": "CQ0MIh2HqTD_",
      "execution_count": null,
      "outputs": []
    },
    {
      "cell_type": "markdown",
      "id": "1270c91c",
      "metadata": {
        "id": "1270c91c"
      },
      "source": [
        "### Question 12\n",
        "Write a function that returns the length of a string."
      ]
    },
    {
      "cell_type": "code",
      "execution_count": 54,
      "id": "87f35472",
      "metadata": {
        "colab": {
          "base_uri": "https://localhost:8080/"
        },
        "id": "87f35472",
        "outputId": "6d6db997-06c8-45c5-ebcf-a7616e17f176"
      },
      "outputs": [
        {
          "output_type": "stream",
          "name": "stdout",
          "text": [
            "The length of the string 'This is a string.' is: 17\n",
            "The length of the string 'Short' is: 5\n"
          ]
        }
      ],
      "source": [
        "def string_length(input_string):\n",
        "\n",
        "  return len(input_string)\n",
        "\n",
        "my_string = \"This is a string.\"\n",
        "length = string_length(my_string)\n",
        "print(f\"The length of the string '{my_string}' is: {length}\")\n",
        "\n",
        "my_string2 = \"Short\"\n",
        "length2 = string_length(my_string2)\n",
        "print(f\"The length of the string '{my_string2}' is: {length2}\")"
      ]
    },
    {
      "cell_type": "markdown",
      "id": "9a8e3d28",
      "metadata": {
        "id": "9a8e3d28"
      },
      "source": [
        "### Question 13\n",
        "Write a function to count words in a sentence."
      ]
    },
    {
      "cell_type": "code",
      "execution_count": 56,
      "id": "e6f996ef",
      "metadata": {
        "colab": {
          "base_uri": "https://localhost:8080/"
        },
        "id": "e6f996ef",
        "outputId": "f1e3219b-da88-4b75-845a-c3da8d184eee"
      },
      "outputs": [
        {
          "output_type": "stream",
          "name": "stdout",
          "text": [
            "The number of words in the sentence 'This is a sample sentence with several words.' is: 8\n"
          ]
        }
      ],
      "source": [
        "def count_words(sentence):\n",
        "  words = sentence.split()\n",
        "  return len(words)\n",
        "\n",
        "my_sentence = \"This is a sample sentence with several words.\"\n",
        "word_count = count_words(my_sentence)\n",
        "print(f\"The number of words in the sentence '{my_sentence}' is: {word_count}\")"
      ]
    },
    {
      "cell_type": "markdown",
      "id": "430c2e4a",
      "metadata": {
        "id": "430c2e4a"
      },
      "source": [
        "### Question 14\n",
        "Write a function to convert Celsius to Fahrenheit."
      ]
    },
    {
      "cell_type": "code",
      "source": [],
      "metadata": {
        "id": "RdC9N07ZrgFU"
      },
      "id": "RdC9N07ZrgFU",
      "execution_count": null,
      "outputs": []
    },
    {
      "cell_type": "markdown",
      "id": "acefe5e3",
      "metadata": {
        "id": "acefe5e3"
      },
      "source": [
        "### Question 15\n",
        "Write a function to check if a number is palindrome."
      ]
    },
    {
      "cell_type": "code",
      "execution_count": 60,
      "id": "b700abae",
      "metadata": {
        "colab": {
          "base_uri": "https://localhost:8080/"
        },
        "id": "b700abae",
        "outputId": "7be701fb-8499-42f2-c2e0-16325ba673a3"
      },
      "outputs": [
        {
          "output_type": "stream",
          "name": "stdout",
          "text": [
            "True\n"
          ]
        }
      ],
      "source": [
        "def is_number_palindrome(n):\n",
        "\n",
        "  return str(n) == str(n)[::-1]\n",
        "\n",
        "print(is_number_palindrome(121))\n"
      ]
    },
    {
      "cell_type": "markdown",
      "id": "b63452cb",
      "metadata": {
        "id": "b63452cb"
      },
      "source": [
        "### Question 16\n",
        "Write a function to return all even numbers in a list."
      ]
    },
    {
      "cell_type": "code",
      "execution_count": 63,
      "id": "9d1fc968",
      "metadata": {
        "colab": {
          "base_uri": "https://localhost:8080/"
        },
        "id": "9d1fc968",
        "outputId": "9d367333-39a1-4714-de83-cc48fe7ab86d"
      },
      "outputs": [
        {
          "output_type": "stream",
          "name": "stdout",
          "text": [
            "Even numbers in the list: [2, 4, 6, 8, 10]\n"
          ]
        }
      ],
      "source": [
        " def get_even_numbers(numbers):\n",
        "\n",
        "  even_numbers = []\n",
        "  for number in numbers:\n",
        "    if number % 2 == 0:\n",
        "      even_numbers.append(number)\n",
        "  return even_numbers\n",
        "\n",
        "my_list = [1, 2, 3, 4, 5, 6, 7, 8, 9, 10]\n",
        "even_list = get_even_numbers(my_list)\n",
        "print(f\"Even numbers in the list: {even_list}\")"
      ]
    },
    {
      "cell_type": "markdown",
      "id": "aca524d9",
      "metadata": {
        "id": "aca524d9"
      },
      "source": [
        "### Question 17\n",
        "Write a function to return the nth Fibonacci number."
      ]
    },
    {
      "cell_type": "code",
      "execution_count": null,
      "id": "97dc4e87",
      "metadata": {
        "id": "97dc4e87"
      },
      "outputs": [],
      "source": [
        "# Your code here\n",
        "def your_function_17():\n",
        "    pass"
      ]
    },
    {
      "cell_type": "markdown",
      "id": "29c847dc",
      "metadata": {
        "id": "29c847dc"
      },
      "source": [
        "### Question 18\n",
        "Write a function to calculate the average of a list."
      ]
    },
    {
      "cell_type": "code",
      "execution_count": 65,
      "id": "9adc9fd2",
      "metadata": {
        "colab": {
          "base_uri": "https://localhost:8080/"
        },
        "id": "9adc9fd2",
        "outputId": "44d304e8-1db3-41e7-d059-0dda30b3f357"
      },
      "outputs": [
        {
          "output_type": "stream",
          "name": "stdout",
          "text": [
            "The average of the list [10, 20, 30, 40, 50] is: 30.0\n"
          ]
        }
      ],
      "source": [
        "def calculate_average(numbers):\n",
        "\n",
        "  if not numbers:\n",
        "    return None\n",
        "  total = sum(numbers)\n",
        "  return total / len(numbers)\n",
        "\n",
        "my_list = [10, 20, 30, 40, 50]\n",
        "average = calculate_average(my_list)\n",
        "print(f\"The average of the list {my_list} is: {average}\")"
      ]
    },
    {
      "cell_type": "markdown",
      "id": "420240fb",
      "metadata": {
        "id": "420240fb"
      },
      "source": [
        "### Question 19\n",
        "Write a function that returns a dictionary of character counts."
      ]
    },
    {
      "cell_type": "code",
      "execution_count": null,
      "id": "95cafc54",
      "metadata": {
        "id": "95cafc54"
      },
      "outputs": [],
      "source": [
        "# Your code here\n",
        "def your_function_19():\n",
        "    pass"
      ]
    },
    {
      "cell_type": "markdown",
      "id": "17629a07",
      "metadata": {
        "id": "17629a07"
      },
      "source": [
        "### Question 20\n",
        "Write a function that returns True if all list elements are unique."
      ]
    },
    {
      "cell_type": "code",
      "execution_count": null,
      "id": "fe4f8820",
      "metadata": {
        "id": "fe4f8820"
      },
      "outputs": [],
      "source": [
        "# Your code here\n",
        "def your_function_20():\n",
        "    pass"
      ]
    },
    {
      "cell_type": "markdown",
      "id": "91dc87b9",
      "metadata": {
        "id": "91dc87b9"
      },
      "source": [
        "### Question 21\n",
        "Write a function that returns dot product of two list of numbers"
      ]
    },
    {
      "cell_type": "code",
      "execution_count": null,
      "id": "87c3fa4b",
      "metadata": {
        "id": "87c3fa4b"
      },
      "outputs": [],
      "source": [
        "# Your code here\n",
        "def your_function_21():\n",
        "    pass"
      ]
    },
    {
      "cell_type": "markdown",
      "id": "5eeb0527",
      "metadata": {
        "id": "5eeb0527"
      },
      "source": [
        "### Question 22\n",
        "Write a function that returns the projection of vector a onto vector b. Both a and b are given as list of numbers"
      ]
    },
    {
      "cell_type": "code",
      "execution_count": null,
      "id": "d2c2439f",
      "metadata": {
        "id": "d2c2439f"
      },
      "outputs": [],
      "source": [
        "# Your code here\n",
        "def your_function_22():\n",
        "    pass"
      ]
    },
    {
      "cell_type": "markdown",
      "id": "1410b385",
      "metadata": {
        "id": "1410b385"
      },
      "source": [
        "### Question 23\n",
        "Write a function to return common elements between two lists."
      ]
    },
    {
      "cell_type": "code",
      "execution_count": null,
      "id": "2cee584c",
      "metadata": {
        "id": "2cee584c"
      },
      "outputs": [],
      "source": [
        "# Your code here\n",
        "def your_function_23():\n",
        "    pass"
      ]
    },
    {
      "cell_type": "markdown",
      "id": "23ab5210",
      "metadata": {
        "id": "23ab5210"
      },
      "source": [
        "### Question 24\n",
        "Create a class Vector that supports addition, dot product, and magnitude."
      ]
    },
    {
      "cell_type": "code",
      "execution_count": null,
      "id": "f6b18fd7",
      "metadata": {
        "id": "f6b18fd7"
      },
      "outputs": [],
      "source": [
        "# Your code here\n",
        "def your_function_24():\n",
        "    pass"
      ]
    },
    {
      "cell_type": "markdown",
      "id": "a0621aba",
      "metadata": {
        "id": "a0621aba"
      },
      "source": [
        "### Question 25\n",
        "Implement a function to return all outliers in a list based on the IQR method."
      ]
    },
    {
      "cell_type": "code",
      "execution_count": null,
      "id": "460a8994",
      "metadata": {
        "id": "460a8994"
      },
      "outputs": [],
      "source": [
        "# Your code here\n",
        "def your_function_25():\n",
        "    pass"
      ]
    },
    {
      "cell_type": "markdown",
      "id": "f0be510e",
      "metadata": {
        "id": "f0be510e"
      },
      "source": [
        "### Question 26\n",
        "Function with default arguments:\n",
        "Create a function to compute variance with an option to use sample or population formula"
      ]
    },
    {
      "cell_type": "code",
      "execution_count": null,
      "id": "941d732d",
      "metadata": {
        "id": "941d732d"
      },
      "outputs": [],
      "source": [
        "# Your code here\n",
        "def your_function_26():\n",
        "    pass"
      ]
    },
    {
      "cell_type": "markdown",
      "id": "c39be0f1",
      "metadata": {
        "id": "c39be0f1"
      },
      "source": [
        "### Question 27\n",
        "Create a list of squares of even numbers between 1 and 20 using list comprehension."
      ]
    },
    {
      "cell_type": "code",
      "execution_count": null,
      "id": "9e4ba74a",
      "metadata": {
        "id": "9e4ba74a"
      },
      "outputs": [],
      "source": [
        "# Your code here\n",
        "def your_function_27():\n",
        "    pass"
      ]
    },
    {
      "cell_type": "markdown",
      "id": "b43c266d",
      "metadata": {
        "id": "b43c266d"
      },
      "source": [
        "### Question 28\n",
        "Write a function that returns the L1 and L2 norms of a vector given as list"
      ]
    },
    {
      "cell_type": "code",
      "execution_count": null,
      "id": "4f5dc876",
      "metadata": {
        "id": "4f5dc876"
      },
      "outputs": [],
      "source": [
        "# Your code here\n",
        "def your_function_28():\n",
        "    pass"
      ]
    },
    {
      "cell_type": "markdown",
      "id": "2007915f",
      "metadata": {
        "id": "2007915f"
      },
      "source": [
        "### Question 29\n",
        "Write a function that computes the 95% confidence interval for the mean of a list of numbers assuming normal distribution."
      ]
    },
    {
      "cell_type": "code",
      "execution_count": null,
      "id": "8634dc63",
      "metadata": {
        "id": "8634dc63"
      },
      "outputs": [],
      "source": [
        "# Your code here\n",
        "def your_function_29():\n",
        "    pass"
      ]
    },
    {
      "cell_type": "markdown",
      "id": "08df3afb",
      "metadata": {
        "id": "08df3afb"
      },
      "source": [
        "### Question 30\n",
        "Given a list of categorical values, create a frequency distribution dictionary."
      ]
    },
    {
      "cell_type": "code",
      "execution_count": null,
      "id": "c9b88531",
      "metadata": {
        "id": "c9b88531"
      },
      "outputs": [],
      "source": [
        "# Your code here\n",
        "def your_function_30():\n",
        "    pass"
      ]
    }
  ],
  "metadata": {
    "language_info": {
      "name": "python"
    },
    "colab": {
      "provenance": [],
      "include_colab_link": true
    },
    "kernelspec": {
      "name": "python3",
      "display_name": "Python 3"
    }
  },
  "nbformat": 4,
  "nbformat_minor": 5
}